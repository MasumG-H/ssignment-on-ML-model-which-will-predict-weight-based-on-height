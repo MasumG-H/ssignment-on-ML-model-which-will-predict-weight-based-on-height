{
 "cells": [
  {
   "cell_type": "markdown",
   "id": "5e64e03f",
   "metadata": {},
   "source": [
    "# Assignment:\n",
    "When, x = height and y = weight\n",
    "Create a ML model which will predict weight based on height. "
   ]
  },
  {
   "cell_type": "code",
   "execution_count": 1,
   "id": "65205e2c",
   "metadata": {},
   "outputs": [],
   "source": [
    "import pandas as pd #import pandas method and rename as pd for using easily in future in this program. \n",
    "import numpy as np #import numpy method and rename as np for using easily in future in this program. \n",
    "import matplotlib.pyplot as plt #import pyplot which is under matplotlib and renamed as plt for easily use in future in programe. "
   ]
  },
  {
   "cell_type": "code",
   "execution_count": 2,
   "id": "bbd99c71",
   "metadata": {},
   "outputs": [],
   "source": [
    "df = pd.read_excel(\"Height-Weight Data.xlsx\") # read the Excel file frm the current directory"
   ]
  },
  {
   "cell_type": "code",
   "execution_count": 3,
   "id": "03bd5d90",
   "metadata": {},
   "outputs": [],
   "source": [
    "x = df[['Height']]\n",
    "y = df['Weight']"
   ]
  },
  {
   "cell_type": "code",
   "execution_count": 4,
   "id": "6d0354e1",
   "metadata": {},
   "outputs": [],
   "source": [
    "from sklearn.model_selection import train_test_split # X (Height) and Y (Weight) are given. We will split the given datasheet for training "
   ]
  },
  {
   "cell_type": "code",
   "execution_count": 5,
   "id": "02c4ef61",
   "metadata": {},
   "outputs": [],
   "source": [
    "xtrain,xtest, ytrain,ytest = train_test_split(x,y, test_size = .30) # trainning data = 70%"
   ]
  },
  {
   "cell_type": "markdown",
   "id": "a76ab26f",
   "metadata": {},
   "source": [
    "# Model Creation"
   ]
  },
  {
   "cell_type": "code",
   "execution_count": 6,
   "id": "e735dc3d",
   "metadata": {},
   "outputs": [],
   "source": [
    "from sklearn.linear_model import LinearRegression #import LinearRegression frm sklearn.linear_model"
   ]
  },
  {
   "cell_type": "code",
   "execution_count": 7,
   "id": "778c7b7c",
   "metadata": {},
   "outputs": [],
   "source": [
    "reg = LinearRegression() # creat a n object 'reg'"
   ]
  },
  {
   "cell_type": "code",
   "execution_count": 8,
   "id": "532cbe42",
   "metadata": {},
   "outputs": [
    {
     "data": {
      "text/plain": [
       "LinearRegression()"
      ]
     },
     "execution_count": 8,
     "metadata": {},
     "output_type": "execute_result"
    }
   ],
   "source": [
    "reg.fit(xtrain, ytrain) #Training ML Model"
   ]
  },
  {
   "cell_type": "code",
   "execution_count": 9,
   "id": "61f8576b",
   "metadata": {},
   "outputs": [],
   "source": [
    "m = reg.coef_ #Co-efficient"
   ]
  },
  {
   "cell_type": "code",
   "execution_count": 10,
   "id": "ca006e18",
   "metadata": {},
   "outputs": [],
   "source": [
    "c = reg.intercept_ #Intercept"
   ]
  },
  {
   "cell_type": "code",
   "execution_count": 11,
   "id": "1a461656",
   "metadata": {},
   "outputs": [],
   "source": [
    "x1 = 71.730978"
   ]
  },
  {
   "cell_type": "code",
   "execution_count": 12,
   "id": "5d25889e",
   "metadata": {},
   "outputs": [],
   "source": [
    "y = (m*x1)+c"
   ]
  },
  {
   "cell_type": "code",
   "execution_count": 13,
   "id": "aa4fb65b",
   "metadata": {},
   "outputs": [
    {
     "data": {
      "text/plain": [
       "array([203.10499633])"
      ]
     },
     "execution_count": 13,
     "metadata": {},
     "output_type": "execute_result"
    }
   ],
   "source": [
    "y"
   ]
  },
  {
   "cell_type": "code",
   "execution_count": 14,
   "id": "425285d4",
   "metadata": {},
   "outputs": [
    {
     "name": "stderr",
     "output_type": "stream",
     "text": [
      "C:\\Users\\user\\anaconda3\\lib\\site-packages\\sklearn\\base.py:450: UserWarning: X does not have valid feature names, but LinearRegression was fitted with feature names\n",
      "  warnings.warn(\n"
     ]
    },
    {
     "data": {
      "text/plain": [
       "array([203.10499633])"
      ]
     },
     "execution_count": 14,
     "metadata": {},
     "output_type": "execute_result"
    }
   ],
   "source": [
    "reg.predict([[71.730978]]) # we get the same results from the commend reg.predict commend and y=(m*x)+c formula"
   ]
  },
  {
   "cell_type": "code",
   "execution_count": 15,
   "id": "7fa4988b",
   "metadata": {},
   "outputs": [],
   "source": [
    "df['predicted result'] = reg.predict(x) # Here df['predicted result'] is the corrosponding value of y for x"
   ]
  },
  {
   "cell_type": "code",
   "execution_count": 16,
   "id": "f7b05ba4",
   "metadata": {},
   "outputs": [
    {
     "data": {
      "text/html": [
       "<div>\n",
       "<style scoped>\n",
       "    .dataframe tbody tr th:only-of-type {\n",
       "        vertical-align: middle;\n",
       "    }\n",
       "\n",
       "    .dataframe tbody tr th {\n",
       "        vertical-align: top;\n",
       "    }\n",
       "\n",
       "    .dataframe thead th {\n",
       "        text-align: right;\n",
       "    }\n",
       "</style>\n",
       "<table border=\"1\" class=\"dataframe\">\n",
       "  <thead>\n",
       "    <tr style=\"text-align: right;\">\n",
       "      <th></th>\n",
       "      <th>Height</th>\n",
       "      <th>Weight</th>\n",
       "      <th>predicted result</th>\n",
       "    </tr>\n",
       "  </thead>\n",
       "  <tbody>\n",
       "    <tr>\n",
       "      <th>0</th>\n",
       "      <td>73.847017</td>\n",
       "      <td>241.893563</td>\n",
       "      <td>215.690450</td>\n",
       "    </tr>\n",
       "    <tr>\n",
       "      <th>1</th>\n",
       "      <td>68.781904</td>\n",
       "      <td>162.310473</td>\n",
       "      <td>185.564945</td>\n",
       "    </tr>\n",
       "    <tr>\n",
       "      <th>2</th>\n",
       "      <td>74.110105</td>\n",
       "      <td>212.740856</td>\n",
       "      <td>217.255206</td>\n",
       "    </tr>\n",
       "    <tr>\n",
       "      <th>3</th>\n",
       "      <td>71.730978</td>\n",
       "      <td>220.042470</td>\n",
       "      <td>203.104999</td>\n",
       "    </tr>\n",
       "    <tr>\n",
       "      <th>4</th>\n",
       "      <td>69.881796</td>\n",
       "      <td>206.349801</td>\n",
       "      <td>192.106714</td>\n",
       "    </tr>\n",
       "    <tr>\n",
       "      <th>...</th>\n",
       "      <td>...</td>\n",
       "      <td>...</td>\n",
       "      <td>...</td>\n",
       "    </tr>\n",
       "    <tr>\n",
       "      <th>3496</th>\n",
       "      <td>69.296830</td>\n",
       "      <td>185.649086</td>\n",
       "      <td>188.627543</td>\n",
       "    </tr>\n",
       "    <tr>\n",
       "      <th>3497</th>\n",
       "      <td>70.542201</td>\n",
       "      <td>210.198845</td>\n",
       "      <td>196.034573</td>\n",
       "    </tr>\n",
       "    <tr>\n",
       "      <th>3498</th>\n",
       "      <td>73.912549</td>\n",
       "      <td>202.429960</td>\n",
       "      <td>216.080212</td>\n",
       "    </tr>\n",
       "    <tr>\n",
       "      <th>3499</th>\n",
       "      <td>67.396021</td>\n",
       "      <td>144.277671</td>\n",
       "      <td>177.322201</td>\n",
       "    </tr>\n",
       "    <tr>\n",
       "      <th>3500</th>\n",
       "      <td>72.738970</td>\n",
       "      <td>187.222909</td>\n",
       "      <td>209.100177</td>\n",
       "    </tr>\n",
       "  </tbody>\n",
       "</table>\n",
       "<p>3501 rows × 3 columns</p>\n",
       "</div>"
      ],
      "text/plain": [
       "         Height      Weight  predicted result\n",
       "0     73.847017  241.893563        215.690450\n",
       "1     68.781904  162.310473        185.564945\n",
       "2     74.110105  212.740856        217.255206\n",
       "3     71.730978  220.042470        203.104999\n",
       "4     69.881796  206.349801        192.106714\n",
       "...         ...         ...               ...\n",
       "3496  69.296830  185.649086        188.627543\n",
       "3497  70.542201  210.198845        196.034573\n",
       "3498  73.912549  202.429960        216.080212\n",
       "3499  67.396021  144.277671        177.322201\n",
       "3500  72.738970  187.222909        209.100177\n",
       "\n",
       "[3501 rows x 3 columns]"
      ]
     },
     "execution_count": 16,
     "metadata": {},
     "output_type": "execute_result"
    }
   ],
   "source": [
    "df"
   ]
  },
  {
   "cell_type": "code",
   "execution_count": 17,
   "id": "64eca73f",
   "metadata": {},
   "outputs": [],
   "source": [
    "pred = reg.predict(xtest) # pred is the Corrosponding results of ytest"
   ]
  },
  {
   "cell_type": "code",
   "execution_count": 18,
   "id": "be89f656",
   "metadata": {},
   "outputs": [
    {
     "data": {
      "text/plain": [
       "array([197.12035503, 157.87146664, 144.78575518, ..., 202.29495642,\n",
       "       176.66454344, 180.87873936])"
      ]
     },
     "execution_count": 18,
     "metadata": {},
     "output_type": "execute_result"
    }
   ],
   "source": [
    "pred"
   ]
  },
  {
   "cell_type": "code",
   "execution_count": 19,
   "id": "3b30fee6",
   "metadata": {},
   "outputs": [],
   "source": [
    "from sklearn.metrics import mean_squared_error #Error check for the constructed ML model"
   ]
  },
  {
   "cell_type": "code",
   "execution_count": 20,
   "id": "22c7fd13",
   "metadata": {},
   "outputs": [],
   "source": [
    "mse = mean_squared_error(ytest, pred)"
   ]
  },
  {
   "cell_type": "code",
   "execution_count": 21,
   "id": "c17dbc45",
   "metadata": {},
   "outputs": [
    {
     "data": {
      "text/plain": [
       "98.61607394279827"
      ]
     },
     "execution_count": 21,
     "metadata": {},
     "output_type": "execute_result"
    }
   ],
   "source": [
    "mse"
   ]
  },
  {
   "cell_type": "code",
   "execution_count": 22,
   "id": "11a7d5de",
   "metadata": {},
   "outputs": [],
   "source": [
    "from sklearn.metrics import mean_absolute_error "
   ]
  },
  {
   "cell_type": "code",
   "execution_count": 23,
   "id": "d8094669",
   "metadata": {},
   "outputs": [],
   "source": [
    "mae = mean_absolute_error(ytest, pred) #mae is always smaller than mse"
   ]
  },
  {
   "cell_type": "code",
   "execution_count": 24,
   "id": "fb26d8a0",
   "metadata": {},
   "outputs": [
    {
     "data": {
      "text/plain": [
       "7.938265080763474"
      ]
     },
     "execution_count": 24,
     "metadata": {},
     "output_type": "execute_result"
    }
   ],
   "source": [
    "mae"
   ]
  }
 ],
 "metadata": {
  "kernelspec": {
   "display_name": "Python 3 (ipykernel)",
   "language": "python",
   "name": "python3"
  },
  "language_info": {
   "codemirror_mode": {
    "name": "ipython",
    "version": 3
   },
   "file_extension": ".py",
   "mimetype": "text/x-python",
   "name": "python",
   "nbconvert_exporter": "python",
   "pygments_lexer": "ipython3",
   "version": "3.9.12"
  }
 },
 "nbformat": 4,
 "nbformat_minor": 5
}
